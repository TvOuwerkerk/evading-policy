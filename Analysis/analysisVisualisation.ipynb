{
 "cells": [
  {
   "cell_type": "code",
   "execution_count": 1,
   "outputs": [],
   "source": [
    "#import deleteResults\n",
    "#import postProcessing"
   ],
   "metadata": {
    "collapsed": false,
    "pycharm": {
     "name": "#%%\n"
    }
   }
  },
  {
   "cell_type": "code",
   "execution_count": 2,
   "outputs": [],
   "source": [
    "import numpy\n",
    "\n",
    "import analysis\n",
    "import seaborn as sns\n",
    "import matplotlib.pyplot as plt\n",
    "import numpy as np\n",
    "import pandas as pd\n",
    "import re\n"
   ],
   "metadata": {
    "collapsed": false,
    "pycharm": {
     "name": "#%%\n"
    }
   }
  },
  {
   "cell_type": "code",
   "execution_count": 3,
   "outputs": [],
   "source": [
    "from analysisCounter import AnalysisCounter\n",
    "\n",
    "counter_dict = analysis.get_counters()\n",
    "rank_list = list(filter((-1).__ne__, analysis.get_rank_list()))\n",
    "rank_table = pd.DataFrame(rank_list, columns=['Rank'])"
   ],
   "metadata": {
    "collapsed": false,
    "pycharm": {
     "name": "#%%\n"
    }
   }
  },
  {
   "cell_type": "markdown",
   "source": [
    "In order to figure out appropriate buckets to sort results according to rank,\n",
    "we display the total list of successfully ranked websites in a histogram\n",
    "with relatively narrow buckets."
   ],
   "metadata": {
    "collapsed": false,
    "pycharm": {
     "name": "#%% md\n"
    }
   }
  },
  {
   "cell_type": "code",
   "execution_count": 4,
   "outputs": [
    {
     "data": {
      "text/plain": "<Figure size 360x360 with 1 Axes>",
      "image/png": "[encoded data removed]"
     },
     "metadata": {},
     "output_type": "display_data"
    }
   ],
   "source": [
    "# Distribution of ranks in buckets of width=2000.\n",
    "# This shows ranks > 60000 are underrepresented in dataset\n",
    "sns.set_theme()\n",
    "sns.displot(rank_table, x='Rank', binwidth=2000)\n",
    "plt.savefig(\"plots/displot-rankdistribution.png\", bbox_inches='tight', dpi=600)"
   ],
   "metadata": {
    "collapsed": false,
    "pycharm": {
     "name": "#%%\n"
    }
   }
  },
  {
   "cell_type": "markdown",
   "source": [
    "From this graph we can see there is a drop-off roughly after 60000.\n",
    "Because of this we only examine links up to that rank\n",
    "in the graphs that divide results by rank."
   ],
   "metadata": {
    "collapsed": false,
    "pycharm": {
     "name": "#%% md\n"
    }
   }
  },
  {
   "cell_type": "code",
   "execution_count": 5,
   "outputs": [],
   "source": [
    "def get_top_table(counter: AnalysisCounter, n: int = 10, index_name: str = 'index'):\n",
    "    \"\"\"\n",
    "    Given a counter, return a LaTeX table of the first n entries.\n",
    "    \"\"\"\n",
    "    counter_df = pd.DataFrame.from_dict(counter.total, orient='index', columns=['Count'])\n",
    "    counter_df.index.name = index_name\n",
    "    counter_data = counter_df.nlargest(n=n, columns=['Count'])\n",
    "    return counter_data.to_latex()"
   ],
   "metadata": {
    "collapsed": false,
    "pycharm": {
     "name": "#%%\n"
    }
   }
  },
  {
   "cell_type": "code",
   "execution_count": 6,
   "outputs": [],
   "source": [
    "def get_bucket_size_table(counter: AnalysisCounter, latex = False):\n",
    "    \"\"\"\n",
    "    Given a counter, return a table of the rank-bucket sizes.\n",
    "    \"\"\"\n",
    "    output = ''\n",
    "\n",
    "    prefix = '\\\\begin{tabular}{lr}\\n\\\\toprule\\n' if latex else ''\n",
    "    table_title = 'Bucket &  Count \\\\\\\\ \\n\\\\midrule\\n' if latex else ''\n",
    "    line_divider = '\\t&' if latex else ''\n",
    "    line_end = '\\\\\\\\ \\n' if latex else '\\n'\n",
    "    suffix = '\\\\bottomrule\\n\\\\end{tabular}' if latex else ''\n",
    "\n",
    "    output += prefix\n",
    "    output += table_title\n",
    "    for rank_bucket in counter.rank_buckets.keys():\n",
    "        output += f'\\t{rank_bucket}:{line_divider} \\t{counter.rank_entries[rank_bucket]} {line_end}'\n",
    "    output += suffix\n",
    "\n",
    "    return output"
   ],
   "metadata": {
    "collapsed": false,
    "pycharm": {
     "name": "#%%\n"
    }
   }
  },
  {
   "cell_type": "code",
   "execution_count": 7,
   "outputs": [],
   "source": [
    "def get_rank_plot(counter: AnalysisCounter, n: int = 10, index_name: str = 'index'):\n",
    "    \"\"\"\n",
    "    Given a counter, return a rank-categorisation plot of the first n entries.\n",
    "    \"\"\"\n",
    "    counter_df = pd.DataFrame(counter.rank)\n",
    "    counter_df.insert(0, 'Total', 0)\n",
    "    for key in counter.total.keys():\n",
    "        try:\n",
    "            counter_df.at[key, 'Total'] = counter.total[key]\n",
    "        except KeyError:\n",
    "            continue\n",
    "\n",
    "    bucket_cols = list(domain_leakage_counter.rank_buckets.keys())\n",
    "    for bucket in bucket_cols:\n",
    "        counter_df[bucket] = counter_df[bucket].div(counter.rank_entries[bucket], axis=0).multiply(100)\n",
    "    counter_df['Total'] = counter_df['Total'].div(counter.total_entries, axis=0).multiply(100)\n",
    "\n",
    "    counter_data = counter_df.nlargest(n=n, columns=['Total'])[bucket_cols]\n",
    "    counter_data.index.name = index_name\n",
    "    counter_data.reset_index(inplace=True)\n",
    "\n",
    "    counter_data_long = counter_data.melt(id_vars=index_name, var_name='rank', value_name='percentage')\n",
    "    # As writing (04 May 2022), the x_jitter option does not serve a purpose, but in the future\n",
    "    # may fix the issue of overlapping points\n",
    "    return sns.scatterplot(data = counter_data_long, x='rank', y='percentage',hue=index_name,\n",
    "                           style=index_name, x_jitter=True, s=60)"
   ],
   "metadata": {
    "collapsed": false,
    "pycharm": {
     "name": "#%%\n"
    }
   }
  },
  {
   "cell_type": "code",
   "execution_count": 8,
   "outputs": [],
   "source": [
    "def get_cmp_plot(counter: AnalysisCounter, n: int = 10, index_name: str = 'index'):\n",
    "    \"\"\"\n",
    "    Given a counter, return a CMP-categorisation plot of the first n entries.\n",
    "    \"\"\"\n",
    "    counter_df = pd.DataFrame(counter.consent)\n",
    "    counter_df.insert(0, 'Total', 0)\n",
    "    for key in counter.total.keys():\n",
    "        try:\n",
    "            counter_df.at[key, 'Total'] = counter.total[key]\n",
    "        except KeyError:\n",
    "            continue\n",
    "\n",
    "    counter_df['cmp'] = counter_df['cmp'].div(counter.cmp_entries, axis=0).multiply(100)\n",
    "    counter_df['no-cmp'] = counter_df['no-cmp'].div(counter.no_cmp_entries, axis=0).multiply(100)\n",
    "    counter_df['Total'] = counter_df['Total'].div(counter.total_entries, axis=0).multiply(100)\n",
    "\n",
    "    counter_data = counter_df.nlargest(n=n, columns=['Total'])\n",
    "    del counter_data['Total']\n",
    "    counter_data.index.name = index_name\n",
    "    counter_data.reset_index(inplace=True)\n",
    "    counter_data_long = counter_data.melt(id_vars=index_name, var_name='consent', value_name='percentage')\n",
    "    plot = sns.catplot(data=counter_data_long, kind='bar', x=index_name, y='percentage', hue='consent')\n",
    "    new_label = [f'cmp\\nn={counter.cmp_entries}', f'no-cmp\\nn={counter.no_cmp_entries}']\n",
    "    for t, l in zip(plot.legend.texts, new_label):\n",
    "        t.set_text(l)\n",
    "    return plot\n"
   ],
   "metadata": {
    "collapsed": false,
    "pycharm": {
     "name": "#%%\n"
    }
   }
  },
  {
   "cell_type": "code",
   "execution_count": 9,
   "outputs": [],
   "source": [
    "domain_leakage_counter = counter_dict['domain']\n",
    "usage_counter = counter_dict['usage']\n",
    "amount_counter = counter_dict['total']\n",
    "org_leakage_counter = counter_dict['organisation']\n",
    "cmp_counter = counter_dict['cmp']\n",
    "policy_counter = counter_dict['policy']\n",
    "endpoint_leakage_counters = counter_dict['endpoints']\n",
    "domain_block_counter = counter_dict['block']\n",
    "organisation_block_counter = counter_dict['orgblock']\n",
    "sns.set_theme()\n",
    "sns.set(rc={\"figure.figsize\":(6, 6)})"
   ],
   "metadata": {
    "collapsed": false,
    "pycharm": {
     "name": "#%%\n"
    }
   }
  },
  {
   "cell_type": "markdown",
   "source": [
    "## Amount of leakages per crawled website\n",
    "\n",
    "The following text covers the total number of pages that\n",
    "circumvent a strict referrer policy at least once."
   ],
   "metadata": {
    "collapsed": false
   }
  },
  {
   "cell_type": "code",
   "execution_count": 10,
   "outputs": [
    {
     "name": "stdout",
     "output_type": "stream",
     "text": [
      "Total number of crawled websites:\n",
      "\t3107\n",
      "Total number of websites with at least 1 circumvention: \n",
      "\t2892\n",
      "\n",
      "\\begin{tabular}{lr}\n",
      "\\toprule\n",
      "{} &  Count \\\\\n",
      "amount &        \\\\\n",
      "\\midrule\n",
      "≥ 1    &   2892 \\\\\n",
      "≥ 2    &   2684 \\\\\n",
      "≥ 3    &   2458 \\\\\n",
      "≥ 4    &   2252 \\\\\n",
      "≥ 5    &   2050 \\\\\n",
      "≥ 6    &   1857 \\\\\n",
      "≥ 7    &   1664 \\\\\n",
      "≥ 8    &   1490 \\\\\n",
      "≥ 9    &   1340 \\\\\n",
      "≥ 10   &   1195 \\\\\n",
      "\\bottomrule\n",
      "\\end{tabular}\n",
      "\n",
      "Total nr of websites split by rank:\n",
      "\t1-12000: \t416\n",
      "\t12001-24000: \t516\n",
      "\t24001-36000: \t525\n",
      "\t36001-48000: \t463\n",
      "\t48001-60000: \t518\n",
      "\n",
      "Split by CMP:\n",
      "\tCMP:\t468\n",
      "\tNo CMP:\t2639\n"
     ]
    },
    {
     "data": {
      "text/plain": "<Figure size 436.475x360 with 1 Axes>",
      "image/png": "[encoded data removed]"
     },
     "metadata": {},
     "output_type": "display_data"
    }
   ],
   "source": [
    "print(f'Total number of crawled websites:\\n\\t{amount_counter.total_entries}')\n",
    "print(f'Total number of websites with at least 1 circumvention: \\n\\t{amount_counter.total[\"≥ 1\"]}\\n')\n",
    "print(get_top_table(amount_counter, index_name='amount'))\n",
    "\n",
    "\n",
    "print(f'Total nr of websites split by rank:')\n",
    "for bucket in amount_counter.rank_buckets.keys():\n",
    "    print(f'\\t{bucket}: \\t{amount_counter.rank_entries[bucket]}')\n",
    "print(f'\\nSplit by CMP:')\n",
    "print(f'\\tCMP:\\t{amount_counter.cmp_entries}')\n",
    "print(f'\\tNo CMP:\\t{amount_counter.no_cmp_entries}')\n",
    "amount_cmp_plot = get_cmp_plot(amount_counter,n=10,index_name='amount')\n",
    "plt.savefig(\"plots/catplot-amount_cmp.png\", bbox_inches='tight', dpi=600)"
   ],
   "metadata": {
    "collapsed": false,
    "pycharm": {
     "name": "#%%\n"
    }
   }
  },
  {
   "cell_type": "code",
   "execution_count": 11,
   "outputs": [
    {
     "name": "stdout",
     "output_type": "stream",
     "text": [
      "\\begin{tabular}{lr}\n",
      "\\toprule\n",
      "Bucket &  Count \\\\ \n",
      "\\midrule\n",
      "\t1-12000:\t& \t416 \\\\ \n",
      "\t12001-24000:\t& \t516 \\\\ \n",
      "\t24001-36000:\t& \t525 \\\\ \n",
      "\t36001-48000:\t& \t463 \\\\ \n",
      "\t48001-60000:\t& \t518 \\\\ \n",
      "\\bottomrule\n",
      "\\end{tabular}\n"
     ]
    },
    {
     "data": {
      "text/plain": "<Figure size 432x432 with 1 Axes>",
      "image/png": "[encoded data removed]"
     },
     "metadata": {},
     "output_type": "display_data"
    }
   ],
   "source": [
    "print(get_bucket_size_table(counter=amount_counter, latex=True))\n",
    "\n",
    "amount_rank_plot = get_rank_plot(amount_counter, index_name='amount')\n",
    "_ = plt.xticks(rotation=30, ha='right')\n",
    "_ = plt.legend(bbox_to_anchor=(1.05, 0.9), loc='upper left', borderaxespad=0)\n",
    "plt.savefig(\"plots/scatterplot-amount_rank.png\", bbox_inches='tight', dpi=600)"
   ],
   "metadata": {
    "collapsed": false,
    "pycharm": {
     "name": "#%%\n"
    }
   }
  },
  {
   "cell_type": "markdown",
   "source": [
    "## Domains being leaked to\n",
    "The following graphs and text consider the domains to which URLs get leaked.\n",
    "The data only considers cases where a strict referrer policy is circumvented."
   ],
   "metadata": {
    "collapsed": false,
    "pycharm": {
     "name": "#%% md\n"
    }
   }
  },
  {
   "cell_type": "code",
   "execution_count": 12,
   "outputs": [
    {
     "name": "stdout",
     "output_type": "stream",
     "text": [
      "Total number of websites being leaked from: \t2892\n",
      "Total number of domains being leaked to: \t1067\n",
      "\n",
      "LaTeX table displaying the top 10 domains being leaked to:\n",
      "\\begin{tabular}{lr}\n",
      "\\toprule\n",
      "{} &  Count \\\\\n",
      "Domains               &        \\\\\n",
      "\\midrule\n",
      "google-analytics.com  &   2491 \\\\\n",
      "facebook.com          &   1662 \\\\\n",
      "doubleclick.net       &   1513 \\\\\n",
      "google.com            &   1429 \\\\\n",
      "google.nl             &   1293 \\\\\n",
      "bing.com              &    854 \\\\\n",
      "pinterest.com         &    590 \\\\\n",
      "nr-data.net           &    367 \\\\\n",
      "twitter.com           &    297 \\\\\n",
      "googlesyndication.com &    267 \\\\\n",
      "\\bottomrule\n",
      "\\end{tabular}\n",
      "\n"
     ]
    }
   ],
   "source": [
    "print(f'Total number of websites being leaked from: \\t{domain_leakage_counter.total_entries}\\n'\n",
    "      f'Total number of domains being leaked to: \\t{len(domain_leakage_counter.total)}\\n')\n",
    "\n",
    "table_size=10\n",
    "print(f'LaTeX table displaying the top {table_size} domains being leaked to:')\n",
    "print(get_top_table(domain_leakage_counter, n=table_size, index_name='Domains'))"
   ],
   "metadata": {
    "collapsed": false,
    "pycharm": {
     "name": "#%%\n"
    }
   }
  },
  {
   "cell_type": "code",
   "execution_count": 13,
   "outputs": [
    {
     "data": {
      "text/plain": "<Figure size 432x288 with 1 Axes>",
      "image/png": "[encoded data removed]"
     },
     "metadata": {},
     "output_type": "display_data"
    }
   ],
   "source": [
    "sns.set(rc={\"figure.figsize\":(6, 4)})\n",
    "domain_df = pd.DataFrame.from_dict(data=domain_leakage_counter.total, orient='index', columns=['# leak sources'])\n",
    "domain_df.sort_values(inplace=True, ascending=False, by='# leak sources')\n",
    "domain_df.reset_index(inplace=True)\n",
    "del domain_df['index']\n",
    "domain_df.index.name = '3rd party domain'\n",
    "g = sns.lineplot(data=domain_df, y='# leak sources', x='3rd party domain')\n",
    "g.set(yscale='log')\n",
    "sns.set()\n",
    "\n",
    "#_ = plt.axis([0,400,0,75])\n",
    "\n",
    "plt.savefig(\"plots/relplot-LeaksPer3rdParty.png\", bbox_inches='tight', dpi=600)"
   ],
   "metadata": {
    "collapsed": false,
    "pycharm": {
     "name": "#%%\n"
    }
   }
  },
  {
   "cell_type": "markdown",
   "source": [
    "In this plot we see a sorted list of all domains being leaked to.\n",
    "The list is sorted by the number of websites leaking to each domain.\n",
    "\n",
    "Out of 1087 domains we see that:</br>\n",
    "less than 375 domains get leaked to more than twice.</br>\n",
    "roughly 125 domains get leaked to more than 10 times."
   ],
   "metadata": {
    "collapsed": false,
    "pycharm": {
     "name": "#%% md\n"
    }
   }
  },
  {
   "cell_type": "code",
   "execution_count": 14,
   "outputs": [
    {
     "name": "stdout",
     "output_type": "stream",
     "text": [
      "Rank bucket sizes:\n",
      "\\begin{tabular}{lr}\n",
      "\\toprule\n",
      "Bucket &  Count \\\\ \n",
      "\\midrule\n",
      "\t1-12000:\t& \t383 \\\\ \n",
      "\t12001-24000:\t& \t479 \\\\ \n",
      "\t24001-36000:\t& \t497 \\\\ \n",
      "\t36001-48000:\t& \t425 \\\\ \n",
      "\t48001-60000:\t& \t482 \\\\ \n",
      "\\bottomrule\n",
      "\\end{tabular}\n"
     ]
    },
    {
     "data": {
      "text/plain": "<Figure size 432x432 with 1 Axes>",
      "image/png": "[encoded data removed]"
     },
     "metadata": {},
     "output_type": "display_data"
    }
   ],
   "source": [
    "sns.set(rc={\"figure.figsize\":(6, 6)})\n",
    "domain_rank_plot = get_rank_plot(domain_leakage_counter, n=7, index_name='domain')\n",
    "_ = plt.xticks(rotation=15)\n",
    "_ = plt.legend(bbox_to_anchor=(1.05, 0.9), loc='upper left', borderaxespad=0)\n",
    "plt.savefig(\"plots/scatterplot-domain_rank.png\", bbox_inches='tight', dpi=600)\n",
    "print('Rank bucket sizes:')\n",
    "print(get_bucket_size_table(domain_leakage_counter, latex=True))"
   ],
   "metadata": {
    "collapsed": false,
    "pycharm": {
     "name": "#%%\n"
    }
   }
  },
  {
   "cell_type": "code",
   "execution_count": 15,
   "outputs": [
    {
     "data": {
      "text/plain": "<Figure size 436.475x360 with 1 Axes>",
      "image/png": "[encoded data removed]"
     },
     "metadata": {},
     "output_type": "display_data"
    }
   ],
   "source": [
    "domain_cmp_plot = get_cmp_plot(domain_leakage_counter, index_name='domain')\n",
    "_ = plt.xticks(rotation=60, ha='right')\n",
    "plt.savefig(\"plots/catplot-domain_cmp.png\", bbox_inches='tight', dpi=600)"
   ],
   "metadata": {
    "collapsed": false,
    "pycharm": {
     "name": "#%%\n"
    }
   }
  },
  {
   "cell_type": "markdown",
   "source": [
    "## Organisations\n",
    "\n",
    "The following text and graphs show the leakages to specific organisations,\n",
    "which may own multiple domains.\n",
    "\n",
    "For example leakages to ```google-analytics.com``` and ```doubleclick.net```\n",
    "are both considered leakages to Google LLC."
   ],
   "metadata": {
    "collapsed": false,
    "pycharm": {
     "name": "#%% md\n"
    }
   }
  },
  {
   "cell_type": "code",
   "execution_count": 16,
   "outputs": [
    {
     "name": "stdout",
     "output_type": "stream",
     "text": [
      "Total number of known organisations being leaked to:\t 419\n",
      "Number of websites leaking to these organisations:\t 2871\n",
      "\n",
      "LaTeX table displaying the top 10 organisations being leaked to:\n",
      "\\begin{tabular}{lr}\n",
      "\\toprule\n",
      "{} &  Count \\\\\n",
      "Organisations         &        \\\\\n",
      "\\midrule\n",
      "Google LLC            &   2650 \\\\\n",
      "Facebook, Inc.        &   1662 \\\\\n",
      "Microsoft Corporation &    920 \\\\\n",
      "Pinterest, Inc.       &    590 \\\\\n",
      "New Relic             &    367 \\\\\n",
      "Twitter, Inc.         &    299 \\\\\n",
      "Trustpilot A/S        &    217 \\\\\n",
      "Salesforce.com, Inc.  &    156 \\\\\n",
      "PayPal, Inc.          &    129 \\\\\n",
      "Cybot ApS             &    125 \\\\\n",
      "\\bottomrule\n",
      "\\end{tabular}\n",
      "\n"
     ]
    }
   ],
   "source": [
    "print(f'Total number of known organisations being leaked to:\\t {len(org_leakage_counter.total)}\\n'\n",
    "      f'Number of websites leaking to these organisations:\\t {org_leakage_counter.total_entries}\\n')\n",
    "\n",
    "table_size=10\n",
    "print(f'LaTeX table displaying the top {table_size} organisations being leaked to:')\n",
    "print(get_top_table(org_leakage_counter, n=table_size, index_name='Organisations'))"
   ],
   "metadata": {
    "collapsed": false,
    "pycharm": {
     "name": "#%%\n"
    }
   }
  },
  {
   "cell_type": "code",
   "execution_count": 17,
   "outputs": [
    {
     "name": "stdout",
     "output_type": "stream",
     "text": [
      "Rank bucket sizes:\n",
      "\t1-12000: \t378 \n",
      "\t12001-24000: \t477 \n",
      "\t24001-36000: \t492 \n",
      "\t36001-48000: \t422 \n",
      "\t48001-60000: \t480 \n",
      "\n"
     ]
    },
    {
     "data": {
      "text/plain": "<Figure size 432x432 with 1 Axes>",
      "image/png": "[encoded data removed]"
     },
     "metadata": {},
     "output_type": "display_data"
    }
   ],
   "source": [
    "organisation_rank_plot = get_rank_plot(org_leakage_counter, n=10, index_name='organisation')\n",
    "_ = plt.xticks(rotation=15)\n",
    "_ = plt.legend(bbox_to_anchor=(1.05, 0.9), loc='upper left', borderaxespad=0)\n",
    "plt.savefig(\"plots/scatterplot-org_rank.png\", bbox_inches='tight', dpi=600)\n",
    "\n",
    "print('Rank bucket sizes:')\n",
    "print(get_bucket_size_table(org_leakage_counter))"
   ],
   "metadata": {
    "collapsed": false,
    "pycharm": {
     "name": "#%%\n"
    }
   }
  },
  {
   "cell_type": "code",
   "execution_count": 18,
   "outputs": [
    {
     "data": {
      "text/plain": "<Figure size 436.475x360 with 1 Axes>",
      "image/png": "[encoded data removed]"
     },
     "metadata": {},
     "output_type": "display_data"
    }
   ],
   "source": [
    "organisation_cmp_plot = get_cmp_plot(org_leakage_counter, index_name='organisation')\n",
    "_ = plt.xticks(rotation=30, ha='right')\n",
    "plt.savefig(\"plots/catplot-org_cmp.png\", bbox_inches='tight', dpi=600)"
   ],
   "metadata": {
    "collapsed": false,
    "pycharm": {
     "name": "#%%\n"
    }
   }
  },
  {
   "cell_type": "markdown",
   "source": [
    "## CMP\n",
    "The following cell concerns leakages to specific CMPs."
   ],
   "metadata": {
    "collapsed": false,
    "pycharm": {
     "name": "#%% md\n"
    }
   }
  },
  {
   "cell_type": "code",
   "execution_count": 19,
   "outputs": [
    {
     "name": "stdout",
     "output_type": "stream",
     "text": [
      "Total number of sites using a cmp: 468\n",
      "\n",
      "\\begin{tabular}{lr}\n",
      "\\toprule\n",
      "{} &  Amount \\\\\n",
      "\\midrule\n",
      "onetrust-LI       &     198 \\\\\n",
      "cookiebot         &     125 \\\\\n",
      "onetrust-OLD      &      39 \\\\\n",
      "cookiebar         &      26 \\\\\n",
      "optanon           &      19 \\\\\n",
      "trustarcbar       &      16 \\\\\n",
      "cookieinformation &      11 \\\\\n",
      "didomi.io         &      10 \\\\\n",
      "\\bottomrule\n",
      "\\end{tabular}\n",
      "\n",
      "\\begin{tabular}{lr}\n",
      "\\toprule\n",
      "Bucket &  Count \\\\ \n",
      "\\midrule\n",
      "\t1-12000:\t& \t85 \\\\ \n",
      "\t12001-24000:\t& \t101 \\\\ \n",
      "\t24001-36000:\t& \t99 \\\\ \n",
      "\t36001-48000:\t& \t58 \\\\ \n",
      "\t48001-60000:\t& \t59 \\\\ \n",
      "\\bottomrule\n",
      "\\end{tabular}\n"
     ]
    },
    {
     "data": {
      "text/plain": "<Figure size 432x432 with 1 Axes>",
      "image/png": "[encoded data removed]"
     },
     "metadata": {},
     "output_type": "display_data"
    }
   ],
   "source": [
    "cmp_df = pd.DataFrame.from_dict(cmp_counter.total, orient='index', columns=['Amount'])\n",
    "cmp_df.sort_values(inplace=True, ascending=False, by='Amount')\n",
    "cmp_rank_plot = get_rank_plot(cmp_counter, n=4, index_name='CMP')\n",
    "_ = plt.xticks(rotation=15)\n",
    "_ = plt.legend(bbox_to_anchor=(1.05, 0.9), loc='upper left', borderaxespad=0)\n",
    "plt.savefig(\"plots/scatterplot-cmp_rank.png\", bbox_inches='tight', dpi=600)\n",
    "\n",
    "print(f\"Total number of sites using a cmp: {cmp_counter.total_entries}\\n\")\n",
    "\n",
    "print(cmp_df.nlargest(n=8, columns=['Amount']).to_latex())\n",
    "print(get_bucket_size_table(counter=cmp_counter, latex=True))\n"
   ],
   "metadata": {
    "collapsed": false,
    "pycharm": {
     "name": "#%%\n"
    }
   }
  },
  {
   "cell_type": "markdown",
   "source": [
    "## Endpoint leakages\n",
    "\n",
    "The following cells concern the leakages to specific endpoints."
   ],
   "metadata": {
    "collapsed": false,
    "pycharm": {
     "name": "#%% md\n"
    }
   }
  },
  {
   "cell_type": "code",
   "execution_count": 20,
   "outputs": [
    {
     "name": "stdout",
     "output_type": "stream",
     "text": [
      "\\begin{tabular}{lr}\n",
      "\\toprule\n",
      "{} &  Count \\\\\n",
      "page                                 &        \\\\\n",
      "\\midrule\n",
      "google-analytics.com/j/collect       &   1805 \\\\\n",
      "google-analytics.com/collect         &   1727 \\\\\n",
      "google-analytics.com/g/collect       &    589 \\\\\n",
      "google-analytics.com/r/collect       &      7 \\\\\n",
      "ssl.google-analytics.com/r/\\_\\_utm.gif &      5 \\\\\n",
      "\\bottomrule\n",
      "\\end{tabular}\n",
      "\n",
      "\\begin{tabular}{lr}\n",
      "\\toprule\n",
      "{} &  Count \\\\\n",
      "page                                    &        \\\\\n",
      "\\midrule\n",
      "facebook.com/tr/                        &   1584 \\\\\n",
      "facebook.com/x/oauth/status             &    114 \\\\\n",
      "facebook.com/plugins/like.php           &     46 \\\\\n",
      "graph.facebook.com/                     &     15 \\\\\n",
      "facebook.com/plugins/customer\\_chat/SDK/ &     13 \\\\\n",
      "\\bottomrule\n",
      "\\end{tabular}\n",
      "\n",
      "\\begin{tabular}{lr}\n",
      "\\toprule\n",
      "{} &  Count \\\\\n",
      "page                                       &        \\\\\n",
      "\\midrule\n",
      "googleads.g.doubleclick.net/pagead/ads     &    166 \\\\\n",
      "securepubads.g.doubleclick.net/gampad/ads  &    110 \\\\\n",
      "googleads.g.doubleclick.net/pagead/landing &     21 \\\\\n",
      "pubads.g.doubleclick.net/gampad/ads        &     10 \\\\\n",
      "pubads.g.doubleclick.net/td/sts            &      7 \\\\\n",
      "\\bottomrule\n",
      "\\end{tabular}\n",
      "\n",
      "\\begin{tabular}{lr}\n",
      "\\toprule\n",
      "{} &  Count \\\\\n",
      "page                                      &        \\\\\n",
      "\\midrule\n",
      "analytics.google.com/g/collect            &    239 \\\\\n",
      "google.com/shopping/customerreviews/badge &     65 \\\\\n",
      "google.com/shopping/customerreviews/proxy &     31 \\\\\n",
      "accounts.google.com/o/oauth2/iframerpc    &     24 \\\\\n",
      "apis.google.com/u/0/se/0/\\_/+1/fastbutton  &     23 \\\\\n",
      "\\bottomrule\n",
      "\\end{tabular}\n",
      "\n",
      "\\begin{tabular}{lr}\n",
      "\\toprule\n",
      "{} &  Count \\\\\n",
      "page                                               &        \\\\\n",
      "\\midrule\n",
      "google.nl/pagead/1p-user-list                      &   1542 \\\\\n",
      "google.nl/pagead/1p-conversion                     &    297 \\\\\n",
      "adservice.google.nl/ddm/fls/i/dc\\_pre=CKKj29iV\\_v... &      1 \\\\\n",
      "adservice.google.nl/ddm/fls/i/dc\\_pre=CLy1guTX-f... &      1 \\\\\n",
      "adservice.google.nl/ddm/fls/i/dc\\_pre=CLmv56C6-v... &      1 \\\\\n",
      "\\bottomrule\n",
      "\\end{tabular}\n",
      "\n",
      "\\begin{tabular}{lr}\n",
      "\\toprule\n",
      "{} &  Count \\\\\n",
      "page                                     &        \\\\\n",
      "\\midrule\n",
      "ct.pinterest.com/v3/                     &    500 \\\\\n",
      "log.pinterest.com/                       &     90 \\\\\n",
      "widgets.pinterest.com/v1/urls/count.json &     49 \\\\\n",
      "api.pinterest.com/v1/urls/count.json     &      6 \\\\\n",
      "\\bottomrule\n",
      "\\end{tabular}\n",
      "\n",
      "\\begin{tabular}{lr}\n",
      "\\toprule\n",
      "{} &  Count \\\\\n",
      "page                                     &        \\\\\n",
      "\\midrule\n",
      "bam.nr-data.net/ins/1/826b256fb3         &      9 \\\\\n",
      "bam-cell.nr-data.net/1/32933b6325        &      4 \\\\\n",
      "bam-cell.nr-data.net/events/1/32933b6325 &      4 \\\\\n",
      "bam-cell.nr-data.net/events/1/d527718953 &      3 \\\\\n",
      "bam-cell.nr-data.net/1/d527718953        &      3 \\\\\n",
      "\\bottomrule\n",
      "\\end{tabular}\n",
      "\n",
      "\\begin{tabular}{lr}\n",
      "\\toprule\n",
      "{} &  Count \\\\\n",
      "page                                               &        \\\\\n",
      "\\midrule\n",
      "analytics.twitter.com/i/adsct                      &    174 \\\\\n",
      "syndication.twitter.com/i/jot                      &     85 \\\\\n",
      "platform.twitter.com/widgets/widget\\_iframe.21f9... &     71 \\\\\n",
      "platform.twitter.com/embed/Tweet.html              &     14 \\\\\n",
      "p.twitter.com/f.gif                                &      1 \\\\\n",
      "\\bottomrule\n",
      "\\end{tabular}\n",
      "\n",
      "\\begin{tabular}{lr}\n",
      "\\toprule\n",
      "{} &  Count \\\\\n",
      "page                                               &        \\\\\n",
      "\\midrule\n",
      "tpc.googlesyndication.com/pagead/js/r20211207/r... &    147 \\\\\n",
      "pagead2.googlesyndication.com/pagead/gen\\_204       &    126 \\\\\n",
      "pagead2.googlesyndication.com/pagead/landing       &     54 \\\\\n",
      "pagead2.googlesyndication.com/gampad/ads           &     20 \\\\\n",
      "tpc.googlesyndication.com/pagead/js/r20211207/r... &      4 \\\\\n",
      "\\bottomrule\n",
      "\\end{tabular}\n",
      "\n",
      "\\begin{tabular}{lr}\n",
      "\\toprule\n",
      "{} &  Count \\\\\n",
      "page                                               &        \\\\\n",
      "\\midrule\n",
      "656490851.privacysandbox.googleadservices.com/p... &      3 \\\\\n",
      "googleadservices.com/pagead/conversion/656490851/  &      3 \\\\\n",
      "googleadservices.com/pagead/conversion/992047525/  &      2 \\\\\n",
      "992047525.privacysandbox.googleadservices.com/p... &      2 \\\\\n",
      "995086091.privacysandbox.googleadservices.com/p... &      2 \\\\\n",
      "\\bottomrule\n",
      "\\end{tabular}\n",
      "\n",
      "\\begin{tabular}{lr}\n",
      "\\toprule\n",
      "{} &  Count \\\\\n",
      "page                                               &        \\\\\n",
      "\\midrule\n",
      "widget.trustpilot.com/stats/TrustboxImpression     &    214 \\\\\n",
      "widget.trustpilot.com/stats/TrustboxView           &    108 \\\\\n",
      "widget.trustpilot.com/feedback/report-error        &     10 \\\\\n",
      "widget.trustpilot.com/data/jsonld/business-unit... &      1 \\\\\n",
      "widget.trustpilot.com/data/jsonld/business-unit... &      1 \\\\\n",
      "\\bottomrule\n",
      "\\end{tabular}\n",
      "\n",
      "\\begin{tabular}{lr}\n",
      "\\toprule\n",
      "{} &  Count \\\\\n",
      "page         &        \\\\\n",
      "\\midrule\n",
      "t.co/i/adsct &    175 \\\\\n",
      "\\bottomrule\n",
      "\\end{tabular}\n",
      "\n",
      "\\begin{tabular}{lr}\n",
      "\\toprule\n",
      "{} &  Count \\\\\n",
      "page                                        &        \\\\\n",
      "\\midrule\n",
      "px.ads.linkedin.com/collect                 &    138 \\\\\n",
      "linkedin.com/px/li\\_sync                     &      8 \\\\\n",
      "linkedin.com/pages-extensions/FollowCompany &      1 \\\\\n",
      "linkedin.com/countserv/count/share          &      1 \\\\\n",
      "\\bottomrule\n",
      "\\end{tabular}\n",
      "\n",
      "\\begin{tabular}{lr}\n",
      "\\toprule\n",
      "{} &  Count \\\\\n",
      "page                                         &        \\\\\n",
      "\\midrule\n",
      "fonts.gstatic.com/s/sourcesanspro/v18        &    106 \\\\\n",
      "csi.gstatic.com/csi                          &     20 \\\\\n",
      "fonts.gstatic.com/s/sourcecodepro/v18        &      6 \\\\\n",
      "fonts.gstatic.com/s/sourceserifpro/v11       &      3 \\\\\n",
      "fonts.gstatic.com/s/montserratalternates/v12 &      2 \\\\\n",
      "\\bottomrule\n",
      "\\end{tabular}\n",
      "\n",
      "\\begin{tabular}{lr}\n",
      "\\toprule\n",
      "{} &  Count \\\\\n",
      "page                          &        \\\\\n",
      "\\midrule\n",
      "t.paypal.com/ts               &    125 \\\\\n",
      "paypal.com/tagmanager/pptm.js &     98 \\\\\n",
      "\\bottomrule\n",
      "\\end{tabular}\n",
      "\n",
      "\\begin{tabular}{lr}\n",
      "\\toprule\n",
      "{} &  Count \\\\\n",
      "page                                               &        \\\\\n",
      "\\midrule\n",
      "consent.cookiebot.com/logconsent.ashx              &    121 \\\\\n",
      "consent.cookiebot.com/6b0e902a-f63a-4f82-896c-e... &      1 \\\\\n",
      "consent.cookiebot.com/0b4da1b1-4bd2-4227-863d-2... &      1 \\\\\n",
      "consent.cookiebot.com/280f21ac-f413-43b2-942d-b... &      1 \\\\\n",
      "consent.cookiebot.com/309c4d01-469f-411a-a399-f... &      1 \\\\\n",
      "\\bottomrule\n",
      "\\end{tabular}\n",
      "\n",
      "\\begin{tabular}{lr}\n",
      "\\toprule\n",
      "{} &  Count \\\\\n",
      "page          &        \\\\\n",
      "\\midrule\n",
      "p.yotpo.com/i &    116 \\\\\n",
      "\\bottomrule\n",
      "\\end{tabular}\n",
      "\n",
      "\\begin{tabular}{lr}\n",
      "\\toprule\n",
      "{} &  Count \\\\\n",
      "page                                &        \\\\\n",
      "\\midrule\n",
      "api.bazaarvoice.com/data/batch.json &     78 \\\\\n",
      "network.bazaarvoice.com/st.gif      &     53 \\\\\n",
      "network-eu.bazaarvoice.com/st.gif   &     41 \\\\\n",
      "network-eu-a.bazaarvoice.com/a.gif  &      7 \\\\\n",
      "network-a.bazaarvoice.com/a.gif     &      3 \\\\\n",
      "\\bottomrule\n",
      "\\end{tabular}\n",
      "\n",
      "\\begin{tabular}{lr}\n",
      "\\toprule\n",
      "{} &  Count \\\\\n",
      "page                                               &        \\\\\n",
      "\\midrule\n",
      "p.cquotient.com/pebble                             &    102 \\\\\n",
      "e.cquotient.com/recs/bbpq-samsoe/alternate\\_prod... &      1 \\\\\n",
      "\\bottomrule\n",
      "\\end{tabular}\n",
      "\n",
      "\\begin{tabular}{lr}\n",
      "\\toprule\n",
      "{} &  Count \\\\\n",
      "page                            &        \\\\\n",
      "\\midrule\n",
      "c.go-mpulse.net/api/config.json &     82 \\\\\n",
      "\\bottomrule\n",
      "\\end{tabular}\n",
      "\n",
      "\\begin{tabular}{lr}\n",
      "\\toprule\n",
      "{} &  Count \\\\\n",
      "page                                            &        \\\\\n",
      "\\midrule\n",
      "rr4---sn-5hne6nzk.googlevideo.com/videoplayback &      8 \\\\\n",
      "rr3---sn-5hneknes.googlevideo.com/videoplayback &      7 \\\\\n",
      "rr1---sn-5hne6nsr.googlevideo.com/videoplayback &      6 \\\\\n",
      "rr1---sn-5hne6nzs.googlevideo.com/videoplayback &      6 \\\\\n",
      "rr3---sn-5hne6ns6.googlevideo.com/videoplayback &      6 \\\\\n",
      "\\bottomrule\n",
      "\\end{tabular}\n",
      "\n",
      "\\begin{tabular}{lr}\n",
      "\\toprule\n",
      "{} &  Count \\\\\n",
      "page                  &        \\\\\n",
      "\\midrule\n",
      "bat.bing.com/action/0 &    854 \\\\\n",
      "\\bottomrule\n",
      "\\end{tabular}\n",
      "\n",
      "\\begin{tabular}{lr}\n",
      "\\toprule\n",
      "{} &  Count \\\\\n",
      "page                                  &        \\\\\n",
      "\\midrule\n",
      "c.amazon-adsystem.com/cdn/prod/config &     34 \\\\\n",
      "c.amazon-adsystem.com/e/dtb/bid       &     32 \\\\\n",
      "s.amazon-adsystem.com/iu3             &     20 \\\\\n",
      "s.amazon-adsystem.com/iui3            &     10 \\\\\n",
      "ws-na.amazon-adsystem.com/widgets/q   &      3 \\\\\n",
      "\\bottomrule\n",
      "\\end{tabular}\n",
      "\n",
      "\\begin{tabular}{lr}\n",
      "\\toprule\n",
      "{} &  Count \\\\\n",
      "page                          &        \\\\\n",
      "\\midrule\n",
      "monitor.ebay.com/webresources &      1 \\\\\n",
      "\\bottomrule\n",
      "\\end{tabular}\n",
      "\n"
     ]
    }
   ],
   "source": [
    "for endpoint_counter in endpoint_leakage_counters.values():\n",
    "    try:\n",
    "        print(get_top_table(endpoint_counter, n=5, index_name='page'))\n",
    "    except TypeError:\n",
    "        print(endpoint_counter)"
   ],
   "metadata": {
    "collapsed": false,
    "pycharm": {
     "name": "#%%\n"
    }
   }
  },
  {
   "cell_type": "markdown",
   "source": [
    "## Additional data\n",
    "The following cells display additional tables with data."
   ],
   "metadata": {
    "collapsed": false,
    "pycharm": {
     "name": "#%% md\n"
    }
   }
  },
  {
   "cell_type": "code",
   "execution_count": 21,
   "outputs": [
    {
     "name": "stdout",
     "output_type": "stream",
     "text": [
      "\\begin{tabular}{lrrrrrr}\n",
      "\\toprule\n",
      "{} &  Total &  1-12000 &  12001-24000 &  24001-36000 &  36001-48000 &  48001-60000 \\\\\n",
      "\\midrule\n",
      "google-analytics.com       &   2491 &      312 &          413 &          422 &          373 &          427 \\\\\n",
      "facebook.com               &   1662 &      231 &          286 &          293 &          252 &          264 \\\\\n",
      "doubleclick.net            &   1513 &      228 &          268 &          257 &          227 &          211 \\\\\n",
      "google.com                 &   1429 &      219 &          245 &          243 &          223 &          208 \\\\\n",
      "google.nl                  &   1293 &      190 &          226 &          221 &          203 &          190 \\\\\n",
      "bing.com                   &    854 &      150 &          171 &          134 &          101 &          128 \\\\\n",
      "pinterest.com              &    590 &      106 &          115 &          107 &           76 &           73 \\\\\n",
      "nr-data.net                &    367 &       71 &           63 &           66 &           62 &           51 \\\\\n",
      "twitter.com                &    297 &       56 &           59 &           58 &           43 &           28 \\\\\n",
      "googlesyndication.com      &    267 &       38 &           49 &           59 &           30 &           33 \\\\\n",
      "googleadservices.com       &    248 &       51 &           49 &           37 &           31 &           25 \\\\\n",
      "trustpilot.com             &    217 &       14 &           22 &           39 &           50 &           57 \\\\\n",
      "t.co                       &    175 &       48 &           33 &           33 &           26 &           14 \\\\\n",
      "gstatic.com                &    141 &       17 &           30 &           22 &           20 &           22 \\\\\n",
      "linkedin.com               &    140 &       31 &           31 &           19 &           16 &           14 \\\\\n",
      "paypal.com                 &    128 &       28 &           19 &           26 &           17 &           12 \\\\\n",
      "cookiebot.com              &    125 &       10 &           19 &           28 &           21 &           31 \\\\\n",
      "yotpo.com                  &    116 &       13 &           31 &           32 &           14 &            6 \\\\\n",
      "cquotient.com              &    102 &       26 &           24 &           17 &           10 &            5 \\\\\n",
      "bazaarvoice.com            &    102 &       31 &           36 &           16 &            5 &            3 \\\\\n",
      "googlevideo.com            &     84 &        8 &           21 &           20 &           10 &            8 \\\\\n",
      "go-mpulse.net              &     82 &       30 &           21 &            8 &            5 &            7 \\\\\n",
      "yahoo.com                  &     79 &       24 &           19 &           16 &            3 &            4 \\\\\n",
      "livechatinc.com            &     76 &        6 &           11 &           13 &           10 &           16 \\\\\n",
      "amazon-adsystem.com        &     76 &       27 &           22 &           15 &            5 &            0 \\\\\n",
      "visualwebsiteoptimizer.com &     73 &        6 &           12 &            7 &           14 &           19 \\\\\n",
      "pingdom.net                &     73 &       10 &           14 &           15 &           14 &           11 \\\\\n",
      "taboola.com                &     70 &       11 &           14 &           18 &           11 &            3 \\\\\n",
      "addthis.com                &     66 &        9 &            9 &           18 &           13 &            5 \\\\\n",
      "adsrvr.org                 &     59 &       27 &           16 &            5 &            1 &            0 \\\\\n",
      "adroll.com                 &     57 &        3 &           13 &           13 &            8 &            6 \\\\\n",
      "sharethis.com              &     56 &        6 &           12 &           10 &           10 &            9 \\\\\n",
      "quantserve.com             &     56 &       12 &           17 &            9 &            2 &            3 \\\\\n",
      "contentsquare.net          &     53 &       20 &           19 &            4 &            2 &            5 \\\\\n",
      "creativecdn.com            &     51 &       19 &           11 &           12 &            3 &            1 \\\\\n",
      "outbrain.com               &     48 &        9 &           15 &           15 &            3 &            1 \\\\\n",
      "scarabresearch.com         &     48 &       12 &            9 &           10 &            6 &            5 \\\\\n",
      "hubspot.com                &     47 &        4 &           10 &           11 &            6 &            4 \\\\\n",
      "omtrdc.net                 &     46 &       25 &            9 &            1 &            3 &            1 \\\\\n",
      "sharethrough.com           &     46 &       11 &           10 &            9 &            5 &            4 \\\\\n",
      "\\bottomrule\n",
      "\\end{tabular}\n",
      "\n",
      "3107\n",
      "{'1-12000': 416, '12001-24000': 516, '24001-36000': 525, '36001-48000': 463, '48001-60000': 518}\n"
     ]
    }
   ],
   "source": [
    "# Create top 40 most leaked-to domains table, including rank bucket division\n",
    "rank_df = pd.DataFrame(domain_leakage_counter.rank)\n",
    "rank_df.insert(0, 'Total', 0)\n",
    "for key in domain_leakage_counter.total.keys():\n",
    "    try:\n",
    "        rank_df.at[key, 'Total'] = domain_leakage_counter.total[key]\n",
    "    except KeyError:\n",
    "        continue\n",
    "column_selection = ['Total'] + list(domain_leakage_counter.rank_buckets.keys())\n",
    "rank_data = rank_df.nlargest(n=40, columns=['Total'])[column_selection]\n",
    "rank_data[column_selection] = rank_data[column_selection].fillna(0)\n",
    "rank_data[column_selection] = rank_data[column_selection].astype(int)\n",
    "print(rank_data.to_latex())\n",
    "print(amount_counter.total_entries)\n",
    "print(amount_counter.rank_entries)"
   ],
   "metadata": {
    "collapsed": false,
    "pycharm": {
     "name": "#%%\n"
    }
   }
  },
  {
   "cell_type": "code",
   "execution_count": 22,
   "outputs": [
    {
     "name": "stdout",
     "output_type": "stream",
     "text": [
      "Domains being leaked to, including the amount of distinct websites\n",
      "leaking to them, the amount of distinct websites sending at least one\n",
      "request to the domain and the percentage of usages that also include a leakage,\n",
      "sorted by most leaked-to domains.\n",
      "\\begin{tabular}{lrrr}\n",
      "\\toprule\n",
      "{} &  Amount leaking &  Amount using &     \\% \\\\\n",
      "Domain                &                 &               &       \\\\\n",
      "\\midrule\n",
      "google-analytics.com  &            2491 &          2670 &  93.3 \\\\\n",
      "facebook.com          &            1662 &          1748 &  95.1 \\\\\n",
      "doubleclick.net       &            1513 &          2562 &  59.1 \\\\\n",
      "google.com            &            1429 &          2574 &  55.5 \\\\\n",
      "google.nl             &            1293 &          2195 &  58.9 \\\\\n",
      "bing.com              &             854 &           910 &  93.8 \\\\\n",
      "pinterest.com         &             590 &           634 &  93.1 \\\\\n",
      "nr-data.net           &             367 &           413 &  88.9 \\\\\n",
      "twitter.com           &             297 &           370 &  80.3 \\\\\n",
      "googlesyndication.com &             267 &           384 &  69.5 \\\\\n",
      "\\bottomrule\n",
      "\\end{tabular}\n",
      "\n",
      "Domains being leaked to, including the amount of distinct websites leaking to them,\n",
      "the amount of distinct websites sending at least one request to the domain\n",
      "and the percentage of usages that also include a leakage, \n",
      "filtered to percentages <50 and leakage amounts >40, sorted by usage amount\n",
      "\\begin{tabular}{lrrr}\n",
      "\\toprule\n",
      "{} &  Amount leaking &  Amount using &     \\% \\\\\n",
      "Domain               &                 &               &       \\\\\n",
      "\\midrule\n",
      "googleadservices.com &             248 &          1460 &  17.0 \\\\\n",
      "gstatic.com          &             141 &          2352 &   6.0 \\\\\n",
      "yahoo.com            &              79 &           495 &  16.0 \\\\\n",
      "taboola.com          &              70 &           428 &  16.4 \\\\\n",
      "addthis.com          &              66 &           540 &  12.2 \\\\\n",
      "adsrvr.org           &              59 &           244 &  24.2 \\\\\n",
      "outbrain.com         &              48 &           375 &  12.8 \\\\\n",
      "casalemedia.com      &              45 &           512 &   8.8 \\\\\n",
      "youtube.com          &              43 &           918 &   4.7 \\\\\n",
      "snapchat.com         &              43 &           245 &  17.6 \\\\\n",
      "\\bottomrule\n",
      "\\end{tabular}\n",
      "\n"
     ]
    }
   ],
   "source": [
    "# Create top 10 most leaked-to domains table, including both absolute and\n",
    "# relative amounts, and relative usage amounts\n",
    "\n",
    "leak_use_df = pd.DataFrame.from_dict(domain_leakage_counter.total, orient='index', columns=['Amount leaking'])\n",
    "leak_use_df.index.name = 'Domain'\n",
    "# leak_use_df = leak_use_df.nlargest(n=30, columns=['Amount leaking'])\n",
    "leak_use_df.insert(len(leak_use_df.columns), 'Amount using', 0)\n",
    "for index in leak_use_df.index:\n",
    "    try:\n",
    "        leak_use_df.at[index, 'Amount using'] = usage_counter.total[index]\n",
    "    except KeyError:\n",
    "        leak_use_df.at[index, 'Amount using'] = 0\n",
    "\n",
    "leak_use_df.sort_values(by='Amount leaking',inplace=True, ascending=False)\n",
    "leak_use_df['%'] = round(leak_use_df['Amount leaking']/leak_use_df['Amount using']*100,1)\n",
    "print('Domains being leaked to, including the amount of distinct websites')\n",
    "print('leaking to them, the amount of distinct websites sending at least one')\n",
    "print('request to the domain and the percentage of usages that also include a leakage,')\n",
    "print('sorted by most leaked-to domains.')\n",
    "print(leak_use_df.head(10).to_latex())\n",
    "\n",
    "alt_results_df = leak_use_df[(leak_use_df['Amount leaking'] >= 40) &\n",
    "                (leak_use_df['Amount leaking']*2 <= leak_use_df['Amount using'])].copy()\n",
    "\n",
    "\n",
    "alt_results_df['abs_dif'] = (alt_results_df['Amount leaking'] - alt_results_df['Amount using']).abs()\n",
    "alt_results_df.sort_values(by='abs_dif', inplace=True, ascending=False)\n",
    "alt_results_df.drop(columns='abs_dif', inplace=True)\n",
    "latex = alt_results_df.head(10).sort_values(by='Amount leaking', ascending=False).to_latex()\n",
    "# numbers = sorted(re.findall('[0-9]+', latex), key=lambda x: int(x))\n",
    "# for number in numbers:\n",
    "#     replace_string = f'{number}\\\\\\\\ {round(int(number)/amount_counter.total_entries * 100,1)}'\n",
    "#     replace_string = '\\\\begin{tabular}{@{}c@{}}' + replace_string + '\\\\%\\end{tabular}'\n",
    "#     latex = latex.replace(f' {number} ', f' {replace_string} ')\n",
    "print('Domains being leaked to, including the amount of distinct websites leaking to them,')\n",
    "print('the amount of distinct websites sending at least one request to the domain')\n",
    "print('and the percentage of usages that also include a leakage, ')\n",
    "print('filtered to percentages <50 and leakage amounts >40, sorted by usage amount')\n",
    "print(latex)"
   ],
   "metadata": {
    "collapsed": false,
    "pycharm": {
     "name": "#%%\n"
    }
   }
  },
  {
   "cell_type": "markdown",
   "source": [
    "## Referrer policies"
   ],
   "metadata": {
    "collapsed": false,
    "pycharm": {
     "name": "#%% md\n"
    }
   }
  },
  {
   "cell_type": "code",
   "execution_count": 23,
   "outputs": [
    {
     "name": "stdout",
     "output_type": "stream",
     "text": [
      "Total number of sites setting a policy: 446\n",
      "\n",
      "Rank bucket sizes:\n",
      "\t1-12000: \t92 \n",
      "\t12001-24000: \t81 \n",
      "\t24001-36000: \t72 \n",
      "\t36001-48000: \t66 \n",
      "\t48001-60000: \t63 \n",
      "\n",
      "\\begin{tabular}{lr}\n",
      "\\toprule\n",
      "{} &  Amount \\\\\n",
      "\\midrule\n",
      "strict-origin-when-cross-origin &     142 \\\\\n",
      "no-referrer-when-downgrade      &     130 \\\\\n",
      "same-origin                     &      54 \\\\\n",
      "origin-when-cross-origin        &      19 \\\\\n",
      "no-referrer                     &      19 \\\\\n",
      "unsafe-url                      &      17 \\\\\n",
      "strict-origin                   &      16 \\\\\n",
      "origin                          &      14 \\\\\n",
      "\\bottomrule\n",
      "\\end{tabular}\n",
      "\n"
     ]
    },
    {
     "data": {
      "text/plain": "                                                    Amount\nstrict-origin-when-cross-origin                        142\nno-referrer-when-downgrade                             130\nsame-origin                                             54\norigin-when-cross-origin                                19\nno-referrer                                             19\nunsafe-url                                              17\nstrict-origin                                           16\norigin                                                  14\nno-referrer, strict-origin-when-cross-origin             8\norigin-when-cross-origin, strict-origin-when-cr...       5\nno-referrer-when-downgrade;strict-origin-when-c...       4\nstrict-origin-when-cross-origin\\nstrict-origin-...       3\norigin-when-cross-origin;strict-origin-when-cro...       2\nstrict-origin;same-origin                                1\nsame-origin;no-referrer-when-downgrade                   1\nsame-origin;origin-when-cross-origin                     1\nstrict-origin-when-cross-origin\\nno-referrer-wh...       1\nstrict-origin-when-cross-origin;same-origin              1\nno-referrer-when-downgrade\\nno-referrer-when-do...       1\nno-referrer-when-downgrade;same-origin                   1\nno-referrer;same-origin                                  1\nno-referrer, same-origin                                 1\nno-referrer, origin, origin-when-cross-origin            1\nunsafe-url;same-origin                                   1\nno-referrer, strict-origin-when-cross-origin, u...       1\nstrict-origin-when-cross-origin, origin-when-cr...       1",
      "text/html": "<div>\n<style scoped>\n    .dataframe tbody tr th:only-of-type {\n        vertical-align: middle;\n    }\n\n    .dataframe tbody tr th {\n        vertical-align: top;\n    }\n\n    .dataframe thead th {\n        text-align: right;\n    }\n</style>\n<table border=\"1\" class=\"dataframe\">\n  <thead>\n    <tr style=\"text-align: right;\">\n      <th></th>\n      <th>Amount</th>\n    </tr>\n  </thead>\n  <tbody>\n    <tr>\n      <th>strict-origin-when-cross-origin</th>\n      <td>142</td>\n    </tr>\n    <tr>\n      <th>no-referrer-when-downgrade</th>\n      <td>130</td>\n    </tr>\n    <tr>\n      <th>same-origin</th>\n      <td>54</td>\n    </tr>\n    <tr>\n      <th>origin-when-cross-origin</th>\n      <td>19</td>\n    </tr>\n    <tr>\n      <th>no-referrer</th>\n      <td>19</td>\n    </tr>\n    <tr>\n      <th>unsafe-url</th>\n      <td>17</td>\n    </tr>\n    <tr>\n      <th>strict-origin</th>\n      <td>16</td>\n    </tr>\n    <tr>\n      <th>origin</th>\n      <td>14</td>\n    </tr>\n    <tr>\n      <th>no-referrer, strict-origin-when-cross-origin</th>\n      <td>8</td>\n    </tr>\n    <tr>\n      <th>origin-when-cross-origin, strict-origin-when-cross-origin</th>\n      <td>5</td>\n    </tr>\n    <tr>\n      <th>no-referrer-when-downgrade;strict-origin-when-cross-origin</th>\n      <td>4</td>\n    </tr>\n    <tr>\n      <th>strict-origin-when-cross-origin\\nstrict-origin-when-cross-origin</th>\n      <td>3</td>\n    </tr>\n    <tr>\n      <th>origin-when-cross-origin;strict-origin-when-cross-origin</th>\n      <td>2</td>\n    </tr>\n    <tr>\n      <th>strict-origin;same-origin</th>\n      <td>1</td>\n    </tr>\n    <tr>\n      <th>same-origin;no-referrer-when-downgrade</th>\n      <td>1</td>\n    </tr>\n    <tr>\n      <th>same-origin;origin-when-cross-origin</th>\n      <td>1</td>\n    </tr>\n    <tr>\n      <th>strict-origin-when-cross-origin\\nno-referrer-when-downgrade;no-referrer-when-downgrade</th>\n      <td>1</td>\n    </tr>\n    <tr>\n      <th>strict-origin-when-cross-origin;same-origin</th>\n      <td>1</td>\n    </tr>\n    <tr>\n      <th>no-referrer-when-downgrade\\nno-referrer-when-downgrade</th>\n      <td>1</td>\n    </tr>\n    <tr>\n      <th>no-referrer-when-downgrade;same-origin</th>\n      <td>1</td>\n    </tr>\n    <tr>\n      <th>no-referrer;same-origin</th>\n      <td>1</td>\n    </tr>\n    <tr>\n      <th>no-referrer, same-origin</th>\n      <td>1</td>\n    </tr>\n    <tr>\n      <th>no-referrer, origin, origin-when-cross-origin</th>\n      <td>1</td>\n    </tr>\n    <tr>\n      <th>unsafe-url;same-origin</th>\n      <td>1</td>\n    </tr>\n    <tr>\n      <th>no-referrer, strict-origin-when-cross-origin, unsafe-url;no-referrer, strict-origin-when-cross-origin</th>\n      <td>1</td>\n    </tr>\n    <tr>\n      <th>strict-origin-when-cross-origin, origin-when-cross-origin</th>\n      <td>1</td>\n    </tr>\n  </tbody>\n</table>\n</div>"
     },
     "execution_count": 23,
     "metadata": {},
     "output_type": "execute_result"
    }
   ],
   "source": [
    "policy_df = pd.DataFrame.from_dict(policy_counter.total, orient='index', columns=['Amount'])\n",
    "policy_df.sort_values(inplace=True, ascending=False, by='Amount')\n",
    "print(f\"Total number of sites setting a policy: {policy_counter.total_entries}\\n\")\n",
    "\n",
    "print('Rank bucket sizes:')\n",
    "print(get_bucket_size_table(policy_counter))\n",
    "\n",
    "print(policy_df.nlargest(n=8, columns=['Amount']).to_latex())\n",
    "\n",
    "policy_df"
   ],
   "metadata": {
    "collapsed": false,
    "pycharm": {
     "name": "#%%\n"
    }
   }
  },
  {
   "cell_type": "markdown",
   "source": [
    "## Number of leakages blocked by referrer policy\n",
    "\n",
    "### Leakages to domains blocked"
   ],
   "metadata": {
    "collapsed": false,
    "pycharm": {
     "name": "#%% md\n"
    }
   }
  },
  {
   "cell_type": "code",
   "execution_count": 24,
   "outputs": [
    {
     "name": "stdout",
     "output_type": "stream",
     "text": [
      "Total number of domains getting blocked from obtaining URL through \n",
      "referrer at least once due to strict referrer policy: 5365\n",
      "As found on 3061 websites\n",
      "\n",
      "\\begin{tabular}{lr}\n",
      "\\toprule\n",
      "{} &  Amount \\\\\n",
      "\\midrule\n",
      "googletagmanager.com &    2270 \\\\\n",
      "gstatic.com          &    2166 \\\\\n",
      "fonts.googleapis.com &    1878 \\\\\n",
      "facebook.net         &    1636 \\\\\n",
      "googleadservices.com &    1123 \\\\\n",
      "google.com           &    1077 \\\\\n",
      "doubleclick.net      &     985 \\\\\n",
      "google.nl            &     833 \\\\\n",
      "youtube.com          &     831 \\\\\n",
      "cloudflare.com       &     828 \\\\\n",
      "ytimg.com            &     757 \\\\\n",
      "ggpht.com            &     711 \\\\\n",
      "ajax.googleapis.com  &     631 \\\\\n",
      "hotjar.com           &     604 \\\\\n",
      "hotjar.io            &     566 \\\\\n",
      "adnxs.com            &     527 \\\\\n",
      "clarity.ms           &     496 \\\\\n",
      "pinimg.com           &     469 \\\\\n",
      "casalemedia.com      &     464 \\\\\n",
      "rlcdn.com            &     464 \\\\\n",
      "\\bottomrule\n",
      "\\end{tabular}\n",
      "\n"
     ]
    },
    {
     "data": {
      "text/plain": "64"
     },
     "execution_count": 24,
     "metadata": {},
     "output_type": "execute_result"
    }
   ],
   "source": [
    "domain_block_df = pd.DataFrame.from_dict(domain_block_counter.total, orient='index', columns=['Amount'])\n",
    "domain_block_df.sort_values(inplace=True, ascending=False, by='Amount')\n",
    "print(f'Total number of domains getting blocked from obtaining URL through \\n'\n",
    "      f'referrer at least once due to strict referrer policy: {len(domain_block_counter.total.items())}')\n",
    "print(f'As found on {domain_block_counter.total_entries} websites\\n')\n",
    "\n",
    "print(domain_block_df.nlargest(n=20, columns=['Amount']).to_latex())\n",
    "domain_block_df.get('Amount')['facebook.com']"
   ],
   "metadata": {
    "collapsed": false,
    "pycharm": {
     "name": "#%%\n"
    }
   }
  },
  {
   "cell_type": "code",
   "execution_count": 25,
   "outputs": [
    {
     "name": "stdout",
     "output_type": "stream",
     "text": [
      "Total number of domains *not* getting URL: 4944\n",
      "(Neither through referrer nor request URL)\n",
      "\n",
      "\\begin{tabular}{lr}\n",
      "\\toprule\n",
      "{} &  Amount \\\\\n",
      "\\midrule\n",
      "ytimg.com             &     757 \\\\\n",
      "ggpht.com             &     711 \\\\\n",
      "hotjar.com            &     604 \\\\\n",
      "hotjar.io             &     566 \\\\\n",
      "clarity.ms            &     496 \\\\\n",
      "pinimg.com            &     469 \\\\\n",
      "rlcdn.com             &     464 \\\\\n",
      "bootstrapcdn.com      &     436 \\\\\n",
      "jsdelivr.net          &     418 \\\\\n",
      "newrelic.com          &     389 \\\\\n",
      "smaato.net            &     345 \\\\\n",
      "shopifysvc.com        &     343 \\\\\n",
      "turn.com              &     337 \\\\\n",
      "criteo.net            &     332 \\\\\n",
      "adtdp.com             &     312 \\\\\n",
      "tpmn.co.kr            &     311 \\\\\n",
      "jquery.com            &     291 \\\\\n",
      "tiktok.com            &     290 \\\\\n",
      "mediawallahscript.com &     288 \\\\\n",
      "zdassets.com          &     287 \\\\\n",
      "\\bottomrule\n",
      "\\end{tabular}\n",
      "\n"
     ]
    }
   ],
   "source": [
    "# Get all entries counted by the referrer_block counter that are not present in the circumvention counter\n",
    "diffDict = {k: v for k, v in domain_block_counter.total.items() if k not in list(domain_leakage_counter.total.keys())}\n",
    "diff_df = pd.DataFrame.from_dict(diffDict, orient='index', columns=['Amount'])\n",
    "diff_df.sort_values(inplace=True, ascending=False, by='Amount')\n",
    "print(f'Total number of domains *not* getting URL: {len(diffDict.items())}')\n",
    "print(f'(Neither through referrer nor request URL)\\n')\n",
    "\n",
    "print(diff_df.nlargest(n=20, columns=['Amount']).to_latex())"
   ],
   "metadata": {
    "collapsed": false,
    "pycharm": {
     "name": "#%%\n"
    }
   }
  },
  {
   "cell_type": "code",
   "execution_count": 37,
   "outputs": [
    {
     "name": "stdout",
     "output_type": "stream",
     "text": [
      "Number of websites with >= 1 full (domain) block: 2928\n",
      "Number of websites never leaking to domain: 193\n"
     ]
    }
   ],
   "source": [
    "blocking_domains = set()\n",
    "domain_block_lookup = analysis.get_leak_block_domain_lookup()\n",
    "for domain in diffDict:\n",
    "    for block_domain in domain_block_lookup:\n",
    "        if domain in domain_block_lookup[block_domain]['block']:\n",
    "            blocking_domains.add(block_domain)\n",
    "print(f'Number of websites with >= 1 full (domain) block: {len(blocking_domains)}')\n",
    "\n",
    "non_leaking_domains = set()\n",
    "for block_domain, third_parties in domain_block_lookup.items()  :\n",
    "    if not third_parties['leak'] and third_parties['block']:\n",
    "        non_leaking_domains.add(block_domain)\n",
    "print(f'Number of websites never leaking to domain: {len(non_leaking_domains)}')"
   ],
   "metadata": {
    "collapsed": false,
    "pycharm": {
     "name": "#%%\n"
    }
   }
  },
  {
   "cell_type": "markdown",
   "source": [
    "### Leakages to organisations blocked"
   ],
   "metadata": {
    "collapsed": false,
    "pycharm": {
     "name": "#%% md\n"
    }
   }
  },
  {
   "cell_type": "code",
   "execution_count": 26,
   "outputs": [
    {
     "name": "stdout",
     "output_type": "stream",
     "text": [
      "Total number of organisations getting blocked from obtaining URL through \n",
      "referrer at least once due to strict referrer policy: 1062\n",
      "As found on 2847 websites\n",
      "\n",
      "\\begin{tabular}{lr}\n",
      "\\toprule\n",
      "{} &  Amount \\\\\n",
      "\\midrule\n",
      "Cloudflare, Inc.          &     979 \\\\\n",
      "Hotjar Ltd                &     604 \\\\\n",
      "Oracle Corporation        &     560 \\\\\n",
      "WarnerMedia, LLC          &     527 \\\\\n",
      "Adobe Inc.                &     503 \\\\\n",
      "StackPath, LLC            &     491 \\\\\n",
      "LiveRamp                  &     466 \\\\\n",
      "Index Exchange, Inc.      &     465 \\\\\n",
      "PubMatic, Inc.            &     463 \\\\\n",
      "The Rubicon Project, Inc. &     452 \\\\\n",
      "IPONWEB GmbH              &     437 \\\\\n",
      "Verizon Media             &     420 \\\\\n",
      "Prospect One              &     418 \\\\\n",
      "Smartadserver S.A.S       &     379 \\\\\n",
      "Criteo SA                 &     367 \\\\\n",
      "Shopify Inc.              &     365 \\\\\n",
      "TripleLift                &     361 \\\\\n",
      "Tapad, Inc.               &     359 \\\\\n",
      "Taboola, Inc.             &     354 \\\\\n",
      "Smaato Inc.               &     345 \\\\\n",
      "\\bottomrule\n",
      "\\end{tabular}\n",
      "\n"
     ]
    }
   ],
   "source": [
    "org_block_df = pd.DataFrame.from_dict(organisation_block_counter.total, orient='index', columns=['Amount'])\n",
    "org_block_df.sort_values(inplace=True, ascending=False, by='Amount')\n",
    "print(f'Total number of organisations getting blocked from obtaining URL through \\n'\n",
    "      f'referrer at least once due to strict referrer policy: {len(organisation_block_counter.total.items())}')\n",
    "print(f'As found on {organisation_block_counter.total_entries} websites\\n')\n",
    "\n",
    "print(org_block_df.nlargest(n=20, columns=['Amount']).to_latex())"
   ],
   "metadata": {
    "collapsed": false,
    "pycharm": {
     "name": "#%%\n"
    }
   }
  },
  {
   "cell_type": "code",
   "execution_count": 27,
   "outputs": [
    {
     "name": "stdout",
     "output_type": "stream",
     "text": [
      "Total number of organisations *not* getting URL: 811\n",
      "(Neither through referrer nor request URL)\n",
      "\n",
      "\\begin{tabular}{lr}\n",
      "\\toprule\n",
      "{} &  Amount \\\\\n",
      "\\midrule\n",
      "Hotjar Ltd                    &     604 \\\\\n",
      "LiveRamp                      &     466 \\\\\n",
      "Prospect One                  &     418 \\\\\n",
      "Smaato Inc.                   &     345 \\\\\n",
      "Amobee, Inc                   &     337 \\\\\n",
      "CyberAgent, Inc.              &     312 \\\\\n",
      "OpenJS Foundation             &     291 \\\\\n",
      "MediaWallah LLC               &     288 \\\\\n",
      "Fonticons Inc                 &     262 \\\\\n",
      "OneTrust LLC                  &     252 \\\\\n",
      "unpkg                         &     199 \\\\\n",
      "Awin AG                       &     197 \\\\\n",
      "Vimeo, LLC                    &     188 \\\\\n",
      "Functional Software, Inc.     &     187 \\\\\n",
      "The Financial Times Limited   &     186 \\\\\n",
      "The Rocket Science Group, LLC &     167 \\\\\n",
      "Neustar, Inc.                 &     143 \\\\\n",
      "Attentive Mobile              &     133 \\\\\n",
      "Sovrn Holdings                &      87 \\\\\n",
      "Trusted Shops GmbH            &      84 \\\\\n",
      "\\bottomrule\n",
      "\\end{tabular}\n",
      "\n"
     ]
    }
   ],
   "source": [
    "orgDiffDict = {k: v for k,v in organisation_block_counter.total.items() if k not in list(org_leakage_counter.total.keys())}\n",
    "org_diff_df = pd.DataFrame.from_dict(orgDiffDict, orient='index', columns=['Amount'])\n",
    "org_diff_df.sort_values(inplace=True, ascending=False, by='Amount')\n",
    "print(f'Total number of organisations *not* getting URL: {len(orgDiffDict.items())}')\n",
    "print(f'(Neither through referrer nor request URL)\\n')\n",
    "\n",
    "print(org_diff_df.nlargest(n=20, columns=['Amount']).to_latex())"
   ],
   "metadata": {
    "collapsed": false,
    "pycharm": {
     "name": "#%%\n"
    }
   }
  },
  {
   "cell_type": "code",
   "execution_count": 34,
   "outputs": [
    {
     "name": "stdout",
     "output_type": "stream",
     "text": [
      "Number of websites with >= 1 full (org) block: 2514\n"
     ]
    }
   ],
   "source": [
    "blocking_orgs = set()\n",
    "org_block_lookup = analysis.get_leak_block_org_lookup()\n",
    "for org in orgDiffDict:\n",
    "    for block_org in org_block_lookup:\n",
    "        if org in org_block_lookup[block_org]['block']:\n",
    "            blocking_orgs.add(block_org)\n",
    "print(f'Number of websites with >= 1 full (org) block: {len(blocking_orgs)}')"
   ],
   "metadata": {
    "collapsed": false,
    "pycharm": {
     "name": "#%%\n"
    }
   }
  },
  {
   "cell_type": "code",
   "execution_count": 28,
   "outputs": [
    {
     "data": {
      "text/plain": "6296"
     },
     "execution_count": 28,
     "metadata": {},
     "output_type": "execute_result"
    }
   ],
   "source": [
    "len(usage_counter.total.items())\n",
    "\n"
   ],
   "metadata": {
    "collapsed": false,
    "pycharm": {
     "name": "#%%\n"
    }
   }
  }
 ],
 "metadata": {
  "kernelspec": {
   "display_name": "Python 3",
   "language": "python",
   "name": "python3"
  },
  "language_info": {
   "codemirror_mode": {
    "name": "ipython",
    "version": 2
   },
   "file_extension": ".py",
   "mimetype": "text/x-python",
   "name": "python",
   "nbconvert_exporter": "python",
   "pygments_lexer": "ipython2",
   "version": "2.7.6"
  }
 },
 "nbformat": 4,
 "nbformat_minor": 0
}